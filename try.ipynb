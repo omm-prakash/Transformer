{
 "cells": [
  {
   "cell_type": "code",
   "execution_count": 26,
   "metadata": {},
   "outputs": [
    {
     "name": "stdout",
     "output_type": "stream",
     "text": [
      "None\n",
      "Encoding(num_tokens=8, attributes=[ids, type_ids, tokens, offsets, attention_mask, special_tokens_mask, overflowing])\n",
      "Token IDs: [2, 5, 8, 6, 7, 9, 4, 3, 0, 0, 0, 0, 0, 0, 0, 0, 0, 0, 0, 0] 20\n",
      "This is an example sentence .\n",
      "Token IDs: [2, 5, 8, 6, 7, 9, 4, 3] 8\n"
     ]
    }
   ],
   "source": [
    "from tokenizers import Tokenizer, models, trainers\n",
    "from tokenizers.pre_tokenizers import Whitespace\n",
    "\n",
    "\n",
    "# Create a SentencePiece model\n",
    "model = models.WordLevel()\n",
    "\n",
    "# Initialize a tokenizer with special tokens [SOS] and [EOS]\n",
    "tokenizer = Tokenizer(model)\n",
    "tokenizer.pre_tokenizer = Whitespace()\n",
    "# tokenizer.add_tokens([\"[SOS]\", \"[EOS]\"])\n",
    "\n",
    "# Train the tokenizer (you need to provide your training data)\n",
    "training_data = [\"This is an example sentence.\"]\n",
    "trainer = trainers.WordLevelTrainer(special_tokens=[\"[PAD]\", \"[UNK]\", \"[SOS]\", \"[EOS]\"])\n",
    "tokenizer.train_from_iterator(training_data, trainer)\n",
    "\n",
    "print(tokenizer.padding)\n",
    "# tokenizer.enable_padding(pad_token='[PAD]', length=20)\n",
    "# Tokenize your input text\n",
    "input_text = \"[SOS] This is an example sentence. [EOS]\"\n",
    "output = tokenizer.encode(input_text, add_special_tokens=False)  # Set add_special_tokens to True\n",
    "print(output)\n",
    "# Access the token IDs\n",
    "output.pad(pad_token='[PAD]', length=20)\n",
    "token_ids = output.ids\n",
    "print(\"Token IDs:\", token_ids, len(token_ids))\n",
    "print(tokenizer.decode(token_ids), )\n",
    "# print(tokenizer.padding)\n",
    "# print(output.attention_mask)\n",
    "\n",
    "# tokenizer.padding = \n",
    "output = tokenizer.encode(input_text, add_special_tokens=False)  # Set add_special_tokens to True\n",
    "\n",
    "# Access the token IDs\n",
    "token_ids = output.ids\n",
    "print(\"Token IDs:\", token_ids, len(token_ids))\n"
   ]
  },
  {
   "cell_type": "code",
   "execution_count": 27,
   "metadata": {},
   "outputs": [
    {
     "data": {
      "text/plain": [
       "2"
      ]
     },
     "execution_count": 27,
     "metadata": {},
     "output_type": "execute_result"
    }
   ],
   "source": [
    "tokenizer.token_to_id('[SOS]')"
   ]
  },
  {
   "cell_type": "code",
   "execution_count": 21,
   "metadata": {},
   "outputs": [
    {
     "data": {
      "text/plain": [
       "5"
      ]
     },
     "execution_count": 21,
     "metadata": {},
     "output_type": "execute_result"
    }
   ],
   "source": [
    "# print(tokenizer.to_str(True))\n",
    "tokenizer.token_to_id('[SOS]')"
   ]
  },
  {
   "cell_type": "code",
   "execution_count": 10,
   "metadata": {},
   "outputs": [
    {
     "name": "stdout",
     "output_type": "stream",
     "text": [
      "Token IDs: [6, 9, 7, 8, 10, 5]\n"
     ]
    }
   ],
   "source": [
    "from tokenizers import Tokenizer, models, trainers, pre_tokenizers, processors\n",
    "\n",
    "# Create a WordLevel model with WhiteSpace pre-tokenizer\n",
    "model = models.WordLevel()\n",
    "pre_tokenizer = pre_tokenizers.Whitespace()\n",
    "\n",
    "# Initialize a tokenizer\n",
    "tokenizer = Tokenizer(model)\n",
    "tokenizer.pre_tokenizer = pre_tokenizer\n",
    "\n",
    "# Train the tokenizer (you need to provide your training data)\n",
    "training_data = [\"This is an example sentence.\"]\n",
    "trainer = trainers.WordLevelTrainer(special_tokens=[\"[PAD]\", \"[CLS]\", \"[SEP]\", \"[MASK]\", \"[UNK]\"])\n",
    "tokenizer.train_from_iterator(training_data, trainer)\n",
    "\n",
    "# Tokenize your input text\n",
    "input_text = \"This is an example sentence.\"\n",
    "output = tokenizer.encode(input_text, add_special_tokens=True)\n",
    "\n",
    "# Access the token IDs\n",
    "token_ids = output.ids\n",
    "print(\"Token IDs:\", token_ids)\n"
   ]
  },
  {
   "cell_type": "code",
   "execution_count": 28,
   "metadata": {},
   "outputs": [
    {
     "name": "stdout",
     "output_type": "stream",
     "text": [
      "Original Matrix:\n",
      "tensor([[1, 2, 3],\n",
      "        [4, 5, 6],\n",
      "        [7, 8, 9]])\n",
      "\n",
      "Upper Triangular Matrix:\n",
      "tensor([[1, 2, 3],\n",
      "        [0, 5, 6],\n",
      "        [0, 0, 9]])\n"
     ]
    },
    {
     "data": {
      "text/plain": [
       "tensor([[[0., 1., 1.],\n",
       "         [0., 0., 1.],\n",
       "         [0., 0., 0.]]])"
      ]
     },
     "execution_count": 28,
     "metadata": {},
     "output_type": "execute_result"
    }
   ],
   "source": [
    "import torch\n",
    "\n",
    "# Create a square matrix\n",
    "matrix = torch.tensor([[1, 2, 3],\n",
    "                      [4, 5, 6],\n",
    "                      [7, 8, 9]])\n",
    "\n",
    "# Use torch.triu to extract the upper triangular part\n",
    "upper_triangular = torch.triu(matrix)\n",
    "\n",
    "print(\"Original Matrix:\")\n",
    "print(matrix)\n",
    "\n",
    "print(\"\\nUpper Triangular Matrix:\")\n",
    "print(upper_triangular)\n",
    "\n",
    "size=3\n",
    "torch.triu(torch.ones(1,size,size), diagonal=1)"
   ]
  },
  {
   "cell_type": "code",
   "execution_count": 35,
   "metadata": {},
   "outputs": [
    {
     "data": {
      "text/plain": [
       "tensor([[[ True, False, False],\n",
       "         [ True,  True, False],\n",
       "         [ True,  True,  True]]])"
      ]
     },
     "execution_count": 35,
     "metadata": {},
     "output_type": "execute_result"
    }
   ],
   "source": [
    "one = torch.ones(1,size,size)\n",
    "torch.triu(one, diagonal=1)==0\n",
    "# return mask!=0"
   ]
  },
  {
   "cell_type": "code",
   "execution_count": 31,
   "metadata": {},
   "outputs": [
    {
     "data": {
      "text/plain": [
       "tensor([[[1., 1., 1.],\n",
       "         [1., 1., 1.],\n",
       "         [1., 1., 1.]]])"
      ]
     },
     "execution_count": 31,
     "metadata": {},
     "output_type": "execute_result"
    }
   ],
   "source": [
    "one"
   ]
  },
  {
   "cell_type": "code",
   "execution_count": 5,
   "metadata": {},
   "outputs": [
    {
     "data": {
      "text/plain": [
       "tensor([[1.]])"
      ]
     },
     "execution_count": 5,
     "metadata": {},
     "output_type": "execute_result"
    }
   ],
   "source": [
    "import torch\n",
    "torch.empty(1,1).fill_(1)"
   ]
  },
  {
   "cell_type": "code",
   "execution_count": 22,
   "metadata": {},
   "outputs": [
    {
     "data": {
      "text/plain": [
       "tensor([[[1],\n",
       "         [2]]])"
      ]
     },
     "execution_count": 22,
     "metadata": {},
     "output_type": "execute_result"
    }
   ],
   "source": [
    "torch.tensor([[[1], [2]]])"
   ]
  },
  {
   "cell_type": "code",
   "execution_count": 1,
   "metadata": {},
   "outputs": [
    {
     "ename": "TypeError",
     "evalue": "string indices must be integers",
     "output_type": "error",
     "traceback": [
      "\u001b[0;31m---------------------------------------------------------------------------\u001b[0m",
      "\u001b[0;31mTypeError\u001b[0m                                 Traceback (most recent call last)",
      "Cell \u001b[0;32mIn[1], line 5\u001b[0m\n\u001b[1;32m      2\u001b[0m \u001b[38;5;28;01mfrom\u001b[39;00m \u001b[38;5;21;01mpathlib\u001b[39;00m \u001b[38;5;28;01mimport\u001b[39;00m Path\n\u001b[1;32m      4\u001b[0m config \u001b[38;5;241m=\u001b[39m yaml\u001b[38;5;241m.\u001b[39msafe_load(\u001b[38;5;124m'\u001b[39m\u001b[38;5;124mconfig.yml\u001b[39m\u001b[38;5;124m'\u001b[39m)\n\u001b[0;32m----> 5\u001b[0m model_folder \u001b[38;5;241m=\u001b[39m \u001b[38;5;124mf\u001b[39m\u001b[38;5;124m\"\u001b[39m\u001b[38;5;132;01m{\u001b[39;00mconfig[\u001b[38;5;124m'\u001b[39m\u001b[38;5;124mdataset_name\u001b[39m\u001b[38;5;124m'\u001b[39m]\u001b[38;5;132;01m}\u001b[39;00m\u001b[38;5;124m_\u001b[39m\u001b[38;5;132;01m{\u001b[39;00mconfig[\u001b[38;5;124m'\u001b[39m\u001b[38;5;124mmodel_folder\u001b[39m\u001b[38;5;124m'\u001b[39m]\u001b[38;5;132;01m}\u001b[39;00m\u001b[38;5;124m\"\u001b[39m\n\u001b[1;32m      6\u001b[0m model_filename \u001b[38;5;241m=\u001b[39m \u001b[38;5;124mf\u001b[39m\u001b[38;5;124m\"\u001b[39m\u001b[38;5;132;01m{\u001b[39;00mconfig[\u001b[38;5;124m'\u001b[39m\u001b[38;5;124mmodel_basename\u001b[39m\u001b[38;5;124m'\u001b[39m]\u001b[38;5;132;01m}\u001b[39;00m\u001b[38;5;124m*\u001b[39m\u001b[38;5;124m\"\u001b[39m\n\u001b[1;32m      7\u001b[0m weights_files \u001b[38;5;241m=\u001b[39m \u001b[38;5;28mlist\u001b[39m(Path(model_folder)\u001b[38;5;241m.\u001b[39mglob(model_filename))\n",
      "\u001b[0;31mTypeError\u001b[0m: string indices must be integers"
     ]
    }
   ],
   "source": [
    "import yaml\n",
    "from pathlib import Path\n",
    "\n",
    "config = yaml.safe_load('config.yml')\n",
    "model_folder = f\"{config['model_folder']}\"\n",
    "model_filename = f\"{config['model_basename']}*\"\n",
    "weights_files = list(Path(model_folder).glob(model_filename))"
   ]
  },
  {
   "cell_type": "code",
   "execution_count": null,
   "metadata": {},
   "outputs": [],
   "source": [
    "weights_files, "
   ]
  }
 ],
 "metadata": {
  "kernelspec": {
   "display_name": "transformer",
   "language": "python",
   "name": "python3"
  },
  "language_info": {
   "codemirror_mode": {
    "name": "ipython",
    "version": 3
   },
   "file_extension": ".py",
   "mimetype": "text/x-python",
   "name": "python",
   "nbconvert_exporter": "python",
   "pygments_lexer": "ipython3",
   "version": "3.9.18"
  }
 },
 "nbformat": 4,
 "nbformat_minor": 2
}
